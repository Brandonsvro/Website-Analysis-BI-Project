{
 "cells": [
  {
   "cell_type": "markdown",
   "metadata": {},
   "source": [
    "**Copee Website Analysis**\n",
    "\n",
    "**Data Cleaning & Transformation**\n",
    "\n",
    "1. Identifying the null value\n",
    "2. Identifying duplicate data\n",
    "3. Transforming the required data"
   ]
  },
  {
   "cell_type": "code",
   "execution_count": 1,
   "metadata": {},
   "outputs": [
    {
     "name": "stderr",
     "output_type": "stream",
     "text": [
      "C:\\Users\\Brandon Savero\\AppData\\Local\\Temp\\ipykernel_4260\\1639222248.py:2: DeprecationWarning: \n",
      "Pyarrow will become a required dependency of pandas in the next major release of pandas (pandas 3.0),\n",
      "(to allow more performant data types, such as the Arrow string type, and better interoperability with other libraries)\n",
      "but was not found to be installed on your system.\n",
      "If this would cause problems for you,\n",
      "please provide us feedback at https://github.com/pandas-dev/pandas/issues/54466\n",
      "        \n",
      "  import pandas as pd\n"
     ]
    }
   ],
   "source": [
    "# Import pandas\n",
    "import pandas as pd\n",
    "\n",
    "# Read CSV Files\n",
    "website_sessions = pd.read_csv('C:\\\\Users\\\\Brandon Savero\\\\Downloads\\\\website_sessions.csv')\n",
    "website_pageviews = pd.read_csv('C:\\\\Users\\\\Brandon Savero\\\\Downloads\\\\website_pageviews.csv')\n",
    "orders = pd.read_csv('C:\\\\Users\\\\Brandon Savero\\\\Downloads\\\\orders.csv')"
   ]
  },
  {
   "cell_type": "markdown",
   "metadata": {},
   "source": [
    "Check null values in website_sessions table"
   ]
  },
  {
   "cell_type": "code",
   "execution_count": null,
   "metadata": {},
   "outputs": [
    {
     "name": "stdout",
     "output_type": "stream",
     "text": [
      "website_session_id       0\n",
      "created_at               0\n",
      "user_id                  0\n",
      "is_repeat_session        0\n",
      "utm_source            5705\n",
      "utm_campaign          5705\n",
      "utm_content           5705\n",
      "device_type              0\n",
      "http_referer          2759\n",
      "dtype: int64\n"
     ]
    }
   ],
   "source": [
    "# Check null values in all columns of the website_sessions table\n",
    "null_website_sessions = website_sessions.isnull().sum()\n",
    "\n",
    "# Print result\n",
    "print(null_website_sessions)"
   ]
  },
  {
   "cell_type": "code",
   "execution_count": null,
   "metadata": {},
   "outputs": [
    {
     "name": "stdout",
     "output_type": "stream",
     "text": [
      "      website_session_id           created_at  user_id  is_repeat_session  \\\n",
      "4140                4224  2012-04-16 13:10:16     3313                  1   \n",
      "4282                4417  2012-04-18 10:06:47     1910                  1   \n",
      "5344                5539  2012-04-30 12:03:16     2301                  1   \n",
      "5562                5715  2012-05-01 16:51:28     5073                  1   \n",
      "5679                5873  2012-05-02 17:08:26     5691                  0   \n",
      "\n",
      "     utm_source utm_campaign utm_content device_type http_referer  \n",
      "4140        NaN          NaN         NaN     desktop          NaN  \n",
      "4282        NaN          NaN         NaN      mobile          NaN  \n",
      "5344        NaN          NaN         NaN     desktop          NaN  \n",
      "5562        NaN          NaN         NaN     desktop          NaN  \n",
      "5679        NaN          NaN         NaN     desktop          NaN  \n"
     ]
    }
   ],
   "source": [
    "# Filter data with a null 'utm_source' column\n",
    "filtered_data = website_sessions[website_sessions['utm_source'].isnull()]\n",
    "\n",
    "# Display the top 5 data\n",
    "top_5_null_utm_source = filtered_data.head()\n",
    "\n",
    "# Print result\n",
    "print(top_5_null_utm_source)"
   ]
  },
  {
   "cell_type": "markdown",
   "metadata": {},
   "source": [
    "Fill the null value in the website_sessions table with the specified value"
   ]
  },
  {
   "cell_type": "code",
   "execution_count": 3,
   "metadata": {},
   "outputs": [
    {
     "name": "stdout",
     "output_type": "stream",
     "text": [
      "Empty DataFrame\n",
      "Columns: [website_session_id, created_at, user_id, is_repeat_session, utm_source, utm_campaign, utm_content, device_type, http_referer]\n",
      "Index: []\n"
     ]
    }
   ],
   "source": [
    "# Replace NaN in utm_source column\n",
    "website_sessions['utm_source'] = website_sessions['utm_source'].fillna('direct')\n",
    "\n",
    "# Replace NaN in utm_campaign column\n",
    "website_sessions['utm_campaign'] = website_sessions['utm_campaign'].fillna('noncampaign')\n",
    "\n",
    "# Replace NaN in utm_content column\n",
    "website_sessions['utm_content'] = website_sessions['utm_content'].fillna('noncontent')\n",
    "\n",
    "# Replace NaN in http_referer column\n",
    "website_sessions['http_referer'] = website_sessions['http_referer'].fillna('nonreferer')\n",
    "\n",
    "# Print result\n",
    "print(website_sessions[website_sessions['utm_campaign'].isnull()])"
   ]
  },
  {
   "cell_type": "code",
   "execution_count": null,
   "metadata": {},
   "outputs": [
    {
     "name": "stdout",
     "output_type": "stream",
     "text": [
      "website_session_id    0\n",
      "created_at            0\n",
      "user_id               0\n",
      "is_repeat_session     0\n",
      "utm_source            0\n",
      "utm_campaign          0\n",
      "utm_content           0\n",
      "device_type           0\n",
      "http_referer          0\n",
      "dtype: int64\n"
     ]
    }
   ],
   "source": [
    "# Check null value data in website_sessions table\n",
    "check = website_sessions.isnull().sum()\n",
    "\n",
    "# Print result\n",
    "print(check)"
   ]
  },
  {
   "cell_type": "markdown",
   "metadata": {},
   "source": [
    "Check null values in website_pageviews table"
   ]
  },
  {
   "cell_type": "code",
   "execution_count": null,
   "metadata": {},
   "outputs": [
    {
     "name": "stdout",
     "output_type": "stream",
     "text": [
      "website_pageview_id    0\n",
      "created_at             0\n",
      "website_session_id     0\n",
      "pageview_url           0\n",
      "dtype: int64\n"
     ]
    }
   ],
   "source": [
    "# Check null values in all columns of the website_pageviews table\n",
    "null_website_pageviews = website_pageviews.isnull().sum()\n",
    "\n",
    "# Print result\n",
    "print(null_website_pageviews)"
   ]
  },
  {
   "cell_type": "markdown",
   "metadata": {},
   "source": [
    "Check null values in orders table"
   ]
  },
  {
   "cell_type": "code",
   "execution_count": null,
   "metadata": {},
   "outputs": [
    {
     "name": "stdout",
     "output_type": "stream",
     "text": [
      "order_id              0\n",
      "created_at            0\n",
      "website_session_id    0\n",
      "user_id               0\n",
      "primary_product_id    0\n",
      "items_purchased       0\n",
      "price_usd             0\n",
      "cogs_usd              0\n",
      "dtype: int64\n"
     ]
    }
   ],
   "source": [
    "# Check null values in all columns of the orders table\n",
    "null_orders = orders.isnull().sum()\n",
    "\n",
    "# Print result\n",
    "print(null_orders)"
   ]
  },
  {
   "cell_type": "markdown",
   "metadata": {},
   "source": [
    "Check duplicate data in website_sessions table"
   ]
  },
  {
   "cell_type": "code",
   "execution_count": null,
   "metadata": {},
   "outputs": [
    {
     "name": "stdout",
     "output_type": "stream",
     "text": [
      "Empty DataFrame\n",
      "Columns: [website_session_id, created_at, user_id, is_repeat_session, utm_source, utm_campaign, utm_content, device_type, http_referer]\n",
      "Index: []\n"
     ]
    }
   ],
   "source": [
    "# Check for duplicate data in the website_sessions table\n",
    "duplicates = website_sessions.duplicated()\n",
    "\n",
    "# Print result\n",
    "print(website_sessions[duplicates])"
   ]
  },
  {
   "cell_type": "markdown",
   "metadata": {},
   "source": [
    "Check duplicate data in website_pageviews table"
   ]
  },
  {
   "cell_type": "code",
   "execution_count": 4,
   "metadata": {},
   "outputs": [
    {
     "name": "stdout",
     "output_type": "stream",
     "text": [
      "Empty DataFrame\n",
      "Columns: [website_pageview_id, created_at, website_session_id, pageview_url]\n",
      "Index: []\n"
     ]
    }
   ],
   "source": [
    "# Check for duplicate data in the website_pageviews table\n",
    "duplicates = website_pageviews.duplicated()\n",
    "\n",
    "# Print result\n",
    "print(website_pageviews[duplicates])"
   ]
  },
  {
   "cell_type": "markdown",
   "metadata": {},
   "source": [
    "Check duplicate data in orders table"
   ]
  },
  {
   "cell_type": "code",
   "execution_count": 6,
   "metadata": {},
   "outputs": [
    {
     "name": "stdout",
     "output_type": "stream",
     "text": [
      "Empty DataFrame\n",
      "Columns: [order_id, created_at, website_session_id, user_id, primary_product_id, items_purchased, price_usd, cogs_usd]\n",
      "Index: []\n"
     ]
    }
   ],
   "source": [
    "# Check for duplicate data in the orders table\n",
    "duplicates = orders.duplicated()\n",
    "\n",
    "# Print result\n",
    "print(orders[duplicates])"
   ]
  },
  {
   "cell_type": "markdown",
   "metadata": {},
   "source": [
    "Export all cleaned data"
   ]
  },
  {
   "cell_type": "code",
   "execution_count": null,
   "metadata": {},
   "outputs": [],
   "source": [
    "# Export website_sessions data to a new CSV file\n",
    "website_sessions.to_csv('C:\\\\Users\\\\Brandon Savero\\\\Downloads\\\\cleaned_website_sessions.csv', index=False)\n",
    "\n",
    "# Export website_pageviews data to a new CSV file\n",
    "website_pageviews.to_csv('C:\\\\Users\\\\Brandon Savero\\\\Downloads\\\\cleaned_website_pageviews.csv', index=False)\n",
    "\n",
    "# Export orders data to a new CSV file\n",
    "orders.to_csv('C:\\\\Users\\\\Brandon Savero\\\\Downloads\\\\cleaned_orders.csv', index=False)"
   ]
  }
 ],
 "metadata": {
  "kernelspec": {
   "display_name": "Python 3",
   "language": "python",
   "name": "python3"
  },
  "language_info": {
   "codemirror_mode": {
    "name": "ipython",
    "version": 3
   },
   "file_extension": ".py",
   "mimetype": "text/x-python",
   "name": "python",
   "nbconvert_exporter": "python",
   "pygments_lexer": "ipython3",
   "version": "3.12.1"
  }
 },
 "nbformat": 4,
 "nbformat_minor": 2
}
